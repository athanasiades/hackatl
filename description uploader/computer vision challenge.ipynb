{
 "cells": [
  {
   "cell_type": "code",
   "execution_count": 49,
   "metadata": {},
   "outputs": [],
   "source": [
    "import requests\n",
    "# If you are using a Jupyter notebook, uncomment the following line.\n",
    "%matplotlib inline\n",
    "import matplotlib.pyplot as plt\n",
    "import json\n",
    "from PIL import Image\n",
    "from io import BytesIO\n",
    "#from bson import ObjectId # For ObjectId to work\n",
    "from pymongo import MongoClient\n",
    "\n",
    "##Un-Comment when running against the Cosmos DB Emulator\n",
    "uri = \"mongodb://57930ec4-0ee0-4-231-b9ee:cWshMAeqLUvNHtOrkiOyzLCSq9kAReeJ5OrL0aewqR9BbqlA677hPSliKXurURwuFhmT0zS3CiYz980sUZ4E1w==@57930ec4-0ee0-4-231-b9ee.documents.azure.com:10255/?ssl=true&replicaSet=globaldb\"\n",
    "client = MongoClient(uri)\n",
    "db = client.cv_hackathon"
   ]
  },
  {
   "cell_type": "code",
   "execution_count": 50,
   "metadata": {},
   "outputs": [
    {
     "name": "stderr",
     "output_type": "stream",
     "text": [
      "C:\\ProgramData\\Anaconda3\\envs\\deeplearning\\lib\\site-packages\\ipykernel_launcher.py:30: DeprecationWarning: insert is deprecated. Use insert_one or insert_many instead.\n"
     ]
    },
    {
     "name": "stdout",
     "output_type": "stream",
     "text": [
      "1: A person swimming in a pool of water\n",
      "2: A black and white photo of a city\n",
      "3: A person waiting for a train at a train station\n",
      "4: A woman standing on a beach posing for the camera\n",
      "5: A drawing of a face\n",
      "6: A group of people posing for a photo\n",
      "7: A large body of water next to the ocean\n",
      "8: A young man riding a skateboard\n",
      "9: A close up of food\n",
      "10: A view of a snow covered mountain\n",
      "11: A large lawn in front of a house\n",
      "12: A close up of a flower\n"
     ]
    }
   ],
   "source": [
    "\n",
    "\n",
    "# Replace <Subscription Key> with your valid subscription key.\n",
    "subscription_key = \"89bea88226174e6793d622ca1355aa92\"\n",
    "assert subscription_key\n",
    "\n",
    "# You must use the same region in your REST call as you used to get your\n",
    "# subscription keys. For example, if you got your subscription keys from\n",
    "# westus, replace \"westcentralus\" in the URI below with \"westus\".\n",
    "#\n",
    "# Free trial subscription keys are generated in the westcentralus region.\n",
    "# If you use a free trial subscription key, you shouldn't need to change\n",
    "# this region.\n",
    "vision_base_url = \"https://southcentralus.api.cognitive.microsoft.com/vision/v2.0/\"\n",
    "#vision_base_url = \"https://southcentralus.api.cognitive.microsoft.com/\"\n",
    "\n",
    "analyze_url = vision_base_url + \"analyze\"\n",
    "\n",
    "headers = {'Ocp-Apim-Subscription-Key': subscription_key }\n",
    "params  = {'visualFeatures': 'Categories,Description,Color'}\n",
    "\n",
    "for i in range(1, 13):\n",
    "    name = \"Analysis_\" + str(i) + \".jpg\"\n",
    "    files = {'file': open(\"./sample_images/\" + name, 'rb')} \n",
    "    response = requests.post(analyze_url, headers=headers, params=params, files= files)\n",
    "    response.raise_for_status()\n",
    "    analysis = response.json()\n",
    "    image_caption = analysis[\"description\"][\"captions\"][0][\"text\"].capitalize()\n",
    "    tags = analysis['description']['tags']\n",
    "    db.pic_info.insert_one({ \"Name\":name, \"Caption\":image_caption, \"Tags\":tags})\n",
    "    print(\"%d: %s\" %(i, image_caption))"
   ]
  }
 ],
 "metadata": {
  "kernelspec": {
   "display_name": "Python 2",
   "language": "python",
   "name": "python2"
  },
  "language_info": {
   "codemirror_mode": {
    "name": "ipython",
    "version": 2
   },
   "file_extension": ".py",
   "mimetype": "text/x-python",
   "name": "python",
   "nbconvert_exporter": "python",
   "pygments_lexer": "ipython2",
   "version": "2.7.15"
  }
 },
 "nbformat": 4,
 "nbformat_minor": 2
}
